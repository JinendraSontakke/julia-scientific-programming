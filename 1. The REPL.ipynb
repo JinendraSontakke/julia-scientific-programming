{
 "cells": [
  {
   "cell_type": "markdown",
   "metadata": {},
   "source": [
    "## The REPL"
   ]
  },
  {
   "cell_type": "markdown",
   "metadata": {},
   "source": [
    "The basic process in julia the REPL, Which is stands for \"Read-Evaluate-Print Loop\""
   ]
  },
  {
   "cell_type": "code",
   "execution_count": 1,
   "metadata": {},
   "outputs": [
    {
     "name": "stdout",
     "output_type": "stream",
     "text": [
      "Hello, world!\n"
     ]
    }
   ],
   "source": [
    "println(\"Hello, world!\")"
   ]
  },
  {
   "cell_type": "markdown",
   "metadata": {},
   "source": [
    "#### The \"println()\" part"
   ]
  },
  {
   "cell_type": "markdown",
   "metadata": {},
   "source": [
    "This is one of Julia's built-in functions. The word \"println\" is the name of the fuction, and it points to the code that the function uses to do its work."
   ]
  },
  {
   "cell_type": "markdown",
   "metadata": {},
   "source": [
    "The parentheses \"()\" is how julia knows that it is dealing with a function, You need to watch carefully for the different kinds of delimiters in Julia. Here, it is \"()\", which we will call parentheses. Julia also uses \"[ ]\" which we will call brackets, and \"{ }\", which we will call braces."
   ]
  },
  {
   "cell_type": "markdown",
   "metadata": {},
   "source": [
    "#### The  \"Hello, World!\" part"
   ]
  },
  {
   "cell_type": "markdown",
   "metadata": {},
   "source": [
    "Whatever is inside the parentheses of a function, is called the argument of that function. In this case, you see that the argument is inside quotation marks, and guess what? Yes---the function println() does not care about what the message means, it just puts whatever is inside the quotation marks on the screen."
   ]
  },
  {
   "cell_type": "markdown",
   "metadata": {},
   "source": [
    "### Further REPL examples"
   ]
  },
  {
   "cell_type": "code",
   "execution_count": 2,
   "metadata": {},
   "outputs": [
    {
     "data": {
      "text/plain": [
       "5"
      ]
     },
     "execution_count": 2,
     "metadata": {},
     "output_type": "execute_result"
    }
   ],
   "source": [
    "5    # this is a comment: the  value 5 is entered ... and echoed"
   ]
  },
  {
   "cell_type": "code",
   "execution_count": 3,
   "metadata": {},
   "outputs": [
    {
     "data": {
      "text/plain": [
       "10"
      ]
     },
     "execution_count": 3,
     "metadata": {},
     "output_type": "execute_result"
    }
   ],
   "source": [
    "5+5  # 5+5 is entered, evaluated, and the result is echoed"
   ]
  },
  {
   "cell_type": "code",
   "execution_count": 5,
   "metadata": {},
   "outputs": [
    {
     "name": "stdout",
     "output_type": "stream",
     "text": [
      "1.2000000000000002\n",
      "16.8...evaluated!\n"
     ]
    }
   ],
   "source": [
    "println(5-3.8) # println() treats numbers interlligently ... more ot less\n",
    "\n",
    "println(5+15-3.2,\"...evaluated!\")\n",
    "                # one can mix numbers and strings in println()"
   ]
  },
  {
   "cell_type": "code",
   "execution_count": 6,
   "metadata": {},
   "outputs": [
    {
     "name": "stdout",
     "output_type": "stream",
     "text": [
      "Hello! My word!\n"
     ]
    }
   ],
   "source": [
    "println(\"Hello!\" * \" My word!\") # strings are combined using *"
   ]
  },
  {
   "cell_type": "code",
   "execution_count": 7,
   "metadata": {},
   "outputs": [
    {
     "name": "stdout",
     "output_type": "stream",
     "text": [
      "Hello! My word! My word! My word!\n"
     ]
    }
   ],
   "source": [
    "println(\"Hello!\" * \" My word!\"^3) # strings are repated using ^"
   ]
  },
  {
   "cell_type": "markdown",
   "metadata": {},
   "source": [
    "## Points of note"
   ]
  },
  {
   "cell_type": "markdown",
   "metadata": {},
   "source": [
    "As I said, REPL stands for \"Read-Evaluate-Print Loop\". It is a feature of dynamic languages such as Julia, Python, and Matlab."
   ]
  },
  {
   "cell_type": "markdown",
   "metadata": {},
   "source": [
    "Using the acronym REPL just emphasises that a dynamic language continually stands ready to execute one more line of code."
   ]
  },
  {
   "cell_type": "markdown",
   "metadata": {},
   "source": [
    "## Strings"
   ]
  },
  {
   "cell_type": "markdown",
   "metadata": {},
   "source": [
    "Anything included in double quotes is a string in Julia. Of course, the only things you can include are items you can type out. These include ALMOST all the characters on your keyboard---letters, numbers, quotation marks."
   ]
  },
  {
   "cell_type": "markdown",
   "metadata": {},
   "source": [
    "For example"
   ]
  },
  {
   "cell_type": "code",
   "execution_count": 8,
   "metadata": {},
   "outputs": [
    {
     "data": {
      "text/plain": [
       "\"abc!@#%^ .. Kyking:;'<,>.?/\""
      ]
     },
     "execution_count": 8,
     "metadata": {},
     "output_type": "execute_result"
    }
   ],
   "source": [
    "\"abc!@#%^ .. Kyking:;'<,>.?/\" # string of odd charcters ..."
   ]
  },
  {
   "cell_type": "markdown",
   "metadata": {},
   "source": [
    "The exceptions are the escape characters like \"\\\" and \"$\" (the most important ones for Julia). As follows:"
   ]
  },
  {
   "cell_type": "code",
   "execution_count": 9,
   "metadata": {},
   "outputs": [
    {
     "ename": "LoadError",
     "evalue": "syntax: incomplete: invalid string syntax",
     "output_type": "error",
     "traceback": [
      "syntax: incomplete: invalid string syntax",
      ""
     ]
    }
   ],
   "source": [
    "\"\\\""
   ]
  },
  {
   "cell_type": "markdown",
   "metadata": {},
   "source": [
    "The exceptions are the escape characters like \"\\\" and \"$\" (the most important ones for Julia). As follows:"
   ]
  },
  {
   "cell_type": "markdown",
   "metadata": {},
   "source": [
    "Bugs are a big deal in programming --- some would say the main difference between expert and lay programmers is in how they deal with bugs."
   ]
  },
  {
   "cell_type": "markdown",
   "metadata": {},
   "source": [
    "Learn to read bug reports, learn to love them. You will certainly see a great many if you carry on programming!"
   ]
  },
  {
   "cell_type": "markdown",
   "metadata": {},
   "source": [
    "The truth is, the error messages that tell you about bugs aren't always that helpful. This is one is not too bad, at least it talks about string syntax, so you know where to look."
   ]
  },
  {
   "cell_type": "markdown",
   "metadata": {},
   "source": [
    "Incidentally, the interactive notebook can warn you about this particular bug"
   ]
  },
  {
   "cell_type": "code",
   "execution_count": 11,
   "metadata": {},
   "outputs": [
    {
     "ename": "LoadError",
     "evalue": "syntax: incomplete: invalid string syntax",
     "output_type": "error",
     "traceback": [
      "syntax: incomplete: invalid string syntax",
      ""
     ]
    }
   ],
   "source": [
    "println(\"\\\") #note the colour of the closing parenthesis--- the argument is not a string"
   ]
  },
  {
   "cell_type": "code",
   "execution_count": null,
   "metadata": {},
   "outputs": [],
   "source": []
  }
 ],
 "metadata": {
  "kernelspec": {
   "display_name": "Julia 1.4.1",
   "language": "julia",
   "name": "julia-1.4"
  },
  "language_info": {
   "file_extension": ".jl",
   "mimetype": "application/julia",
   "name": "julia",
   "version": "1.4.1"
  }
 },
 "nbformat": 4,
 "nbformat_minor": 4
}
